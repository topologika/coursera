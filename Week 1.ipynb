{
 "cells": [
  {
   "cell_type": "code",
   "execution_count": 5,
   "metadata": {},
   "outputs": [
    {
     "name": "stdout",
     "output_type": "stream",
     "text": [
      "[[-21.2277419    8.77498912  -1.40188999  -2.86228221  -6.09816276]\n",
      " [  6.70211581   0.2843024   -2.62850716  18.01114898 -17.30334532]\n",
      " [-17.26102837  15.00311038  11.35796853  -0.91743453   8.46505238]\n",
      " [-16.6401613   -8.38893703  16.41788885 -16.99793594  -4.03625553]\n",
      " [ -7.65315881  -1.42608232  12.72685282  -1.97904059  -0.0946943 ]\n",
      " [ -0.73244133   8.34211218 -11.9865029  -13.92842344   5.10638841]\n",
      " [ 21.04602378  20.14324755  15.28640107 -10.91364718   3.3953476 ]\n",
      " [ -3.13391153  -1.13629722  13.49330051 -10.54201644   4.91397346]\n",
      " [-10.30968028  -2.69232917   8.29240052  -1.51223816  -3.43812949]\n",
      " [  7.8881472  -13.26305887   5.76754179  -3.66855163   4.18170746]]\n"
     ]
    }
   ],
   "source": [
    "import numpy as np\n",
    "X = np.random.normal(loc=1, scale=10, size=(10, 5))\n",
    "print(X)"
   ]
  },
  {
   "cell_type": "code",
   "execution_count": 6,
   "metadata": {},
   "outputs": [
    {
     "name": "stdout",
     "output_type": "stream",
     "text": [
      "[-4.13218367  2.5641057   6.7325454  -4.53104211 -0.49081181]\n",
      "[[-1.36004949  0.63106678 -0.9224792   0.17984595 -0.78273442]\n",
      " [ 0.86193052 -0.23164308 -1.06158274  2.42942187 -2.34687445]\n",
      " [-1.04447473  1.26388505  0.52454244  0.38944649  1.25015595]\n",
      " [-0.9950812  -1.1129015   1.09835869 -1.34358476 -0.49491121]\n",
      " [-0.28011372 -0.40542946  0.67977968  0.27503486  0.05529435]\n",
      " [ 0.27046896  0.58708363 -2.12281883 -1.0127766   0.78131747]\n",
      " [ 2.00307049  1.78615694  0.97004322 -0.68786749  0.54247197]\n",
      " [ 0.07941826 -0.37598538  0.76669807 -0.64781602  0.75445812]\n",
      " [-0.49145521 -0.53408851  0.17689413  0.32534319 -0.41141834]\n",
      " [ 0.95628611 -1.60814448 -0.10943547  0.09295251  0.65224055]]\n"
     ]
    }
   ],
   "source": [
    "m = np.mean(X, axis=0)\n",
    "std = np.std(X, axis=0)\n",
    "X_norm = ((X - m)  / std)\n",
    "print(m)\n",
    "print (X_norm)"
   ]
  },
  {
   "cell_type": "code",
   "execution_count": 7,
   "metadata": {
    "collapsed": true
   },
   "outputs": [],
   "source": [
    "Z = np.array([[4, 5, 0], \n",
    "             [1, 9, 3],              \n",
    "             [5, 1, 1],\n",
    "             [3, 3, 3], \n",
    "             [9, 9, 9], \n",
    "             [4, 7, 1]])"
   ]
  },
  {
   "cell_type": "code",
   "execution_count": 8,
   "metadata": {},
   "outputs": [
    {
     "name": "stdout",
     "output_type": "stream",
     "text": [
      "[ 9 13  7  9 27 12]\n",
      "[-1  3 -3 -1 17  2]\n"
     ]
    }
   ],
   "source": [
    "a=Z.sum(1)\n",
    "b=a-10\n",
    "print(a)\n",
    "print(b)\n"
   ]
  },
  {
   "cell_type": "code",
   "execution_count": 11,
   "metadata": {},
   "outputs": [
    {
     "name": "stdout",
     "output_type": "stream",
     "text": [
      "(array([1, 4, 5], dtype=int64),)\n"
     ]
    }
   ],
   "source": [
    "r = np.sum(Z, axis=1)\n",
    "print(np.nonzero(r > 10))"
   ]
  },
  {
   "cell_type": "code",
   "execution_count": 12,
   "metadata": {},
   "outputs": [
    {
     "name": "stdout",
     "output_type": "stream",
     "text": [
      "[[ 1.  0.  0.]\n",
      " [ 0.  1.  0.]\n",
      " [ 0.  0.  1.]]\n",
      "[[ 1.  0.  0.]\n",
      " [ 0.  1.  0.]\n",
      " [ 0.  0.  1.]]\n"
     ]
    },
    {
     "data": {
      "text/plain": [
       "array([[ 1.,  0.,  0.],\n",
       "       [ 0.,  1.,  0.],\n",
       "       [ 0.,  0.,  1.],\n",
       "       [ 1.,  0.,  0.],\n",
       "       [ 0.,  1.,  0.],\n",
       "       [ 0.,  0.,  1.]])"
      ]
     },
     "execution_count": 12,
     "metadata": {},
     "output_type": "execute_result"
    }
   ],
   "source": [
    "A = np.eye(3)\n",
    "B = np.eye(3)\n",
    "print(A)\n",
    "print(B)\n",
    "AB=np.vstack((A,B))\n",
    "AB\n"
   ]
  },
  {
   "cell_type": "code",
   "execution_count": 13,
   "metadata": {},
   "outputs": [
    {
     "data": {
      "text/html": [
       "<div>\n",
       "<style>\n",
       "    .dataframe thead tr:only-child th {\n",
       "        text-align: right;\n",
       "    }\n",
       "\n",
       "    .dataframe thead th {\n",
       "        text-align: left;\n",
       "    }\n",
       "\n",
       "    .dataframe tbody tr th {\n",
       "        vertical-align: top;\n",
       "    }\n",
       "</style>\n",
       "<table border=\"1\" class=\"dataframe\">\n",
       "  <thead>\n",
       "    <tr style=\"text-align: right;\">\n",
       "      <th></th>\n",
       "      <th>Survived</th>\n",
       "      <th>Pclass</th>\n",
       "      <th>Name</th>\n",
       "      <th>Sex</th>\n",
       "      <th>Age</th>\n",
       "      <th>SibSp</th>\n",
       "      <th>Parch</th>\n",
       "      <th>Ticket</th>\n",
       "      <th>Fare</th>\n",
       "      <th>Cabin</th>\n",
       "      <th>Embarked</th>\n",
       "    </tr>\n",
       "    <tr>\n",
       "      <th>PassengerId</th>\n",
       "      <th></th>\n",
       "      <th></th>\n",
       "      <th></th>\n",
       "      <th></th>\n",
       "      <th></th>\n",
       "      <th></th>\n",
       "      <th></th>\n",
       "      <th></th>\n",
       "      <th></th>\n",
       "      <th></th>\n",
       "      <th></th>\n",
       "    </tr>\n",
       "  </thead>\n",
       "  <tbody>\n",
       "    <tr>\n",
       "      <th>1</th>\n",
       "      <td>0</td>\n",
       "      <td>3</td>\n",
       "      <td>Braund, Mr. Owen Harris</td>\n",
       "      <td>male</td>\n",
       "      <td>22.0</td>\n",
       "      <td>1</td>\n",
       "      <td>0</td>\n",
       "      <td>A/5 21171</td>\n",
       "      <td>7.2500</td>\n",
       "      <td>NaN</td>\n",
       "      <td>S</td>\n",
       "    </tr>\n",
       "    <tr>\n",
       "      <th>2</th>\n",
       "      <td>1</td>\n",
       "      <td>1</td>\n",
       "      <td>Cumings, Mrs. John Bradley (Florence Briggs Th...</td>\n",
       "      <td>female</td>\n",
       "      <td>38.0</td>\n",
       "      <td>1</td>\n",
       "      <td>0</td>\n",
       "      <td>PC 17599</td>\n",
       "      <td>71.2833</td>\n",
       "      <td>C85</td>\n",
       "      <td>C</td>\n",
       "    </tr>\n",
       "    <tr>\n",
       "      <th>3</th>\n",
       "      <td>1</td>\n",
       "      <td>3</td>\n",
       "      <td>Heikkinen, Miss. Laina</td>\n",
       "      <td>female</td>\n",
       "      <td>26.0</td>\n",
       "      <td>0</td>\n",
       "      <td>0</td>\n",
       "      <td>STON/O2. 3101282</td>\n",
       "      <td>7.9250</td>\n",
       "      <td>NaN</td>\n",
       "      <td>S</td>\n",
       "    </tr>\n",
       "    <tr>\n",
       "      <th>4</th>\n",
       "      <td>1</td>\n",
       "      <td>1</td>\n",
       "      <td>Futrelle, Mrs. Jacques Heath (Lily May Peel)</td>\n",
       "      <td>female</td>\n",
       "      <td>35.0</td>\n",
       "      <td>1</td>\n",
       "      <td>0</td>\n",
       "      <td>113803</td>\n",
       "      <td>53.1000</td>\n",
       "      <td>C123</td>\n",
       "      <td>S</td>\n",
       "    </tr>\n",
       "    <tr>\n",
       "      <th>5</th>\n",
       "      <td>0</td>\n",
       "      <td>3</td>\n",
       "      <td>Allen, Mr. William Henry</td>\n",
       "      <td>male</td>\n",
       "      <td>35.0</td>\n",
       "      <td>0</td>\n",
       "      <td>0</td>\n",
       "      <td>373450</td>\n",
       "      <td>8.0500</td>\n",
       "      <td>NaN</td>\n",
       "      <td>S</td>\n",
       "    </tr>\n",
       "    <tr>\n",
       "      <th>6</th>\n",
       "      <td>0</td>\n",
       "      <td>3</td>\n",
       "      <td>Moran, Mr. James</td>\n",
       "      <td>male</td>\n",
       "      <td>NaN</td>\n",
       "      <td>0</td>\n",
       "      <td>0</td>\n",
       "      <td>330877</td>\n",
       "      <td>8.4583</td>\n",
       "      <td>NaN</td>\n",
       "      <td>Q</td>\n",
       "    </tr>\n",
       "    <tr>\n",
       "      <th>7</th>\n",
       "      <td>0</td>\n",
       "      <td>1</td>\n",
       "      <td>McCarthy, Mr. Timothy J</td>\n",
       "      <td>male</td>\n",
       "      <td>54.0</td>\n",
       "      <td>0</td>\n",
       "      <td>0</td>\n",
       "      <td>17463</td>\n",
       "      <td>51.8625</td>\n",
       "      <td>E46</td>\n",
       "      <td>S</td>\n",
       "    </tr>\n",
       "    <tr>\n",
       "      <th>8</th>\n",
       "      <td>0</td>\n",
       "      <td>3</td>\n",
       "      <td>Palsson, Master. Gosta Leonard</td>\n",
       "      <td>male</td>\n",
       "      <td>2.0</td>\n",
       "      <td>3</td>\n",
       "      <td>1</td>\n",
       "      <td>349909</td>\n",
       "      <td>21.0750</td>\n",
       "      <td>NaN</td>\n",
       "      <td>S</td>\n",
       "    </tr>\n",
       "    <tr>\n",
       "      <th>9</th>\n",
       "      <td>1</td>\n",
       "      <td>3</td>\n",
       "      <td>Johnson, Mrs. Oscar W (Elisabeth Vilhelmina Berg)</td>\n",
       "      <td>female</td>\n",
       "      <td>27.0</td>\n",
       "      <td>0</td>\n",
       "      <td>2</td>\n",
       "      <td>347742</td>\n",
       "      <td>11.1333</td>\n",
       "      <td>NaN</td>\n",
       "      <td>S</td>\n",
       "    </tr>\n",
       "    <tr>\n",
       "      <th>10</th>\n",
       "      <td>1</td>\n",
       "      <td>2</td>\n",
       "      <td>Nasser, Mrs. Nicholas (Adele Achem)</td>\n",
       "      <td>female</td>\n",
       "      <td>14.0</td>\n",
       "      <td>1</td>\n",
       "      <td>0</td>\n",
       "      <td>237736</td>\n",
       "      <td>30.0708</td>\n",
       "      <td>NaN</td>\n",
       "      <td>C</td>\n",
       "    </tr>\n",
       "  </tbody>\n",
       "</table>\n",
       "</div>"
      ],
      "text/plain": [
       "             Survived  Pclass  \\\n",
       "PassengerId                     \n",
       "1                   0       3   \n",
       "2                   1       1   \n",
       "3                   1       3   \n",
       "4                   1       1   \n",
       "5                   0       3   \n",
       "6                   0       3   \n",
       "7                   0       1   \n",
       "8                   0       3   \n",
       "9                   1       3   \n",
       "10                  1       2   \n",
       "\n",
       "                                                          Name     Sex   Age  \\\n",
       "PassengerId                                                                    \n",
       "1                                      Braund, Mr. Owen Harris    male  22.0   \n",
       "2            Cumings, Mrs. John Bradley (Florence Briggs Th...  female  38.0   \n",
       "3                                       Heikkinen, Miss. Laina  female  26.0   \n",
       "4                 Futrelle, Mrs. Jacques Heath (Lily May Peel)  female  35.0   \n",
       "5                                     Allen, Mr. William Henry    male  35.0   \n",
       "6                                             Moran, Mr. James    male   NaN   \n",
       "7                                      McCarthy, Mr. Timothy J    male  54.0   \n",
       "8                               Palsson, Master. Gosta Leonard    male   2.0   \n",
       "9            Johnson, Mrs. Oscar W (Elisabeth Vilhelmina Berg)  female  27.0   \n",
       "10                         Nasser, Mrs. Nicholas (Adele Achem)  female  14.0   \n",
       "\n",
       "             SibSp  Parch            Ticket     Fare Cabin Embarked  \n",
       "PassengerId                                                          \n",
       "1                1      0         A/5 21171   7.2500   NaN        S  \n",
       "2                1      0          PC 17599  71.2833   C85        C  \n",
       "3                0      0  STON/O2. 3101282   7.9250   NaN        S  \n",
       "4                1      0            113803  53.1000  C123        S  \n",
       "5                0      0            373450   8.0500   NaN        S  \n",
       "6                0      0            330877   8.4583   NaN        Q  \n",
       "7                0      0             17463  51.8625   E46        S  \n",
       "8                3      1            349909  21.0750   NaN        S  \n",
       "9                0      2            347742  11.1333   NaN        S  \n",
       "10               1      0            237736  30.0708   NaN        C  "
      ]
     },
     "execution_count": 13,
     "metadata": {},
     "output_type": "execute_result"
    }
   ],
   "source": [
    "import pandas\n",
    "data = pandas.read_csv('titanic.csv', index_col='PassengerId')\n",
    "data[:10]\n",
    "data.head()\n"
   ]
  },
  {
   "cell_type": "code",
   "execution_count": 25,
   "metadata": {},
   "outputs": [
    {
     "name": "stdout",
     "output_type": "stream",
     "text": [
      "[0 1 2 3] [0 2 4 6]\n",
      "[[0 0]\n",
      " [1 2]\n",
      " [2 4]\n",
      " [3 6]]\n",
      "[[0 1 2 3]\n",
      " [0 2 4 6]]\n"
     ]
    }
   ],
   "source": [
    "a=np.arange(4)\n",
    "b=np.arange(0,8,2)\n",
    "print(a,b)\n",
    "c=np.column_stack((a,b))\n",
    "print(c)\n",
    "d=np.vstack((a,b))\n",
    "print(d)"
   ]
  },
  {
   "cell_type": "code",
   "execution_count": 31,
   "metadata": {},
   "outputs": [
    {
     "data": {
      "text/plain": [
       "PassengerId\n",
       "2      Cumings, Mrs. John Bradley (Florence Briggs Th...\n",
       "3                                 Heikkinen, Miss. Laina\n",
       "4           Futrelle, Mrs. Jacques Heath (Lily May Peel)\n",
       "9      Johnson, Mrs. Oscar W (Elisabeth Vilhelmina Berg)\n",
       "10                   Nasser, Mrs. Nicholas (Adele Achem)\n",
       "11                       Sandstrom, Miss. Marguerite Rut\n",
       "12                              Bonnell, Miss. Elizabeth\n",
       "15                  Vestrom, Miss. Hulda Amanda Adolfina\n",
       "16                      Hewlett, Mrs. (Mary D Kingcome) \n",
       "19     Vander Planke, Mrs. Julius (Emelia Maria Vande...\n",
       "20                               Masselmani, Mrs. Fatima\n",
       "23                           McGowan, Miss. Anna \"Annie\"\n",
       "25                         Palsson, Miss. Torborg Danira\n",
       "26     Asplund, Mrs. Carl Oscar (Selma Augusta Emilia...\n",
       "29                         O'Dwyer, Miss. Ellen \"Nellie\"\n",
       "32        Spencer, Mrs. William Augustus (Marie Eugenie)\n",
       "33                              Glynn, Miss. Mary Agatha\n",
       "39                    Vander Planke, Miss. Augusta Maria\n",
       "40                           Nicola-Yarred, Miss. Jamila\n",
       "41        Ahlin, Mrs. Johan (Johanna Persdotter Larsson)\n",
       "42     Turpin, Mrs. William John Robert (Dorothy Ann ...\n",
       "44              Laroche, Miss. Simonne Marie Anne Andree\n",
       "45                         Devaney, Miss. Margaret Delia\n",
       "48                             O'Driscoll, Miss. Bridget\n",
       "50         Arnold-Franchi, Mrs. Josef (Josefine Franchi)\n",
       "53              Harper, Mrs. Henry Sleeper (Myna Haxtun)\n",
       "54     Faunthorpe, Mrs. Lizzie (Elizabeth Anne Wilkin...\n",
       "57                                     Rugg, Miss. Emily\n",
       "59                          West, Miss. Constance Mirium\n",
       "62                                   Icard, Miss. Amelie\n",
       "                             ...                        \n",
       "808                      Pettersson, Miss. Ellen Natalia\n",
       "810       Chambers, Mrs. Norman Campbell (Bertha Griggs)\n",
       "814                   Andersson, Miss. Ebba Iris Alfrida\n",
       "817                         Heininen, Miss. Wendla Maria\n",
       "821    Hays, Mrs. Charles Melville (Clara Jennings Gr...\n",
       "824                                   Moor, Mrs. (Beila)\n",
       "830            Stone, Mrs. George Nelson (Martha Evelyn)\n",
       "831              Yasbeck, Mrs. Antoni (Selini Alexander)\n",
       "836                          Compton, Miss. Sara Rebecca\n",
       "843                              Serepeca, Miss. Augusta\n",
       "850         Goldenberg, Mrs. Samuel L (Edwiga Grabowska)\n",
       "853                              Boulos, Miss. Nourelain\n",
       "854                            Lines, Miss. Mary Conover\n",
       "855        Carter, Mrs. Ernest Courtenay (Lilian Hughes)\n",
       "856                           Aks, Mrs. Sam (Leah Rosen)\n",
       "857           Wick, Mrs. George Dennick (Mary Hitchcock)\n",
       "859                Baclini, Mrs. Solomon (Latifa Qurban)\n",
       "863    Swift, Mrs. Frederick Joel (Margaret Welles Ba...\n",
       "864                    Sage, Miss. Dorothy Edith \"Dolly\"\n",
       "866                             Bystrom, Mrs. (Karolina)\n",
       "867                         Duran y More, Miss. Asuncion\n",
       "872     Beckwith, Mrs. Richard Leonard (Sallie Monypeny)\n",
       "875                Abelson, Mrs. Samuel (Hannah Wizosky)\n",
       "876                     Najib, Miss. Adele Kiamie \"Jane\"\n",
       "880        Potter, Mrs. Thomas Jr (Lily Alexenia Wilson)\n",
       "881         Shelley, Mrs. William (Imanita Parrish Hall)\n",
       "883                         Dahlberg, Miss. Gerda Ulrika\n",
       "886                 Rice, Mrs. William (Margaret Norton)\n",
       "888                         Graham, Miss. Margaret Edith\n",
       "889             Johnston, Miss. Catherine Helen \"Carrie\"\n",
       "Name: Name, Length: 314, dtype: object"
      ]
     },
     "execution_count": 31,
     "metadata": {},
     "output_type": "execute_result"
    }
   ],
   "source": [
    "data[data.Sex=='female'].Name"
   ]
  }
 ],
 "metadata": {
  "kernelspec": {
   "display_name": "Python 3",
   "language": "python",
   "name": "python3"
  },
  "language_info": {
   "codemirror_mode": {
    "name": "ipython",
    "version": 3
   },
   "file_extension": ".py",
   "mimetype": "text/x-python",
   "name": "python",
   "nbconvert_exporter": "python",
   "pygments_lexer": "ipython3",
   "version": "3.6.3"
  }
 },
 "nbformat": 4,
 "nbformat_minor": 2
}
